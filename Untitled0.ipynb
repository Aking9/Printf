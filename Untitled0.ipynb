{
  "nbformat": 4,
  "nbformat_minor": 0,
  "metadata": {
    "colab": {
      "provenance": [],
      "authorship_tag": "ABX9TyN3j6WUrf9oEwI5cS4SH0bg",
      "include_colab_link": true
    },
    "kernelspec": {
      "name": "python3",
      "display_name": "Python 3"
    },
    "language_info": {
      "name": "python"
    }
  },
  "cells": [
    {
      "cell_type": "markdown",
      "metadata": {
        "id": "view-in-github",
        "colab_type": "text"
      },
      "source": [
        "<a href=\"https://colab.research.google.com/github/Aking9/Printf/blob/master/Untitled0.ipynb\" target=\"_parent\"><img src=\"https://colab.research.google.com/assets/colab-badge.svg\" alt=\"Open In Colab\"/></a>"
      ]
    },
    {
      "cell_type": "code",
      "execution_count": null,
      "metadata": {
        "id": "gM1hpP-nrn5T"
      },
      "outputs": [],
      "source": []
    },
    {
      "cell_type": "markdown",
      "source": [
        "class STUDENT:\n",
        "  def _ _init_ _(self, name, cgpa, state_of_origin, age, gender, courses_passed, courses_to_pass, year_of_enrollment, year_of_graduation):\n",
        "    self.name = name\n",
        "    self.cgpa = cgpa\n",
        "    self.state_of_origin = state_of_origin\n",
        "    self.age = age\n",
        "    self.gender = gender\n",
        "    self.course_passed = courses_passed\n",
        "    self.course_to_pass = courses_to_pass\n",
        "    self.year_of_enrollment = year_of_enrollment\n",
        "    self.year_of_graduation\n",
        "\n",
        "  def calculate_year_of_graduation(self, current_year):\n",
        "    \"\"\"Calculate the year of graduation based on the current year.\"\"\"\n",
        "  years_remaining = self.year_of_graduation -current_ year\n",
        "  return years_remaining if years_remaining >= 0 else 0\n",
        "\n",
        "  def can_graduate(self):\n",
        "  \"\"\"Determine if the student can graduate based on CGPA.\"\"\"\n",
        "  retuen self.cgpa >= 2.0\n",
        "\n",
        "  def will_pass(self):\n",
        "  \"\"\"Determine if the student will pass based on courses passed and courses to pass.\"\"\"\n",
        "  return self.courses_passed >=self.courses_to_pass\n",
        "\n",
        "  # Example usage:\n",
        "  curent_year = 2024\n",
        "  student1 = student(\"John Doe\", 3.8, \"California\", 20, \"Male\", 25, 15,2020, 2024)\n",
        "\n",
        "  print(\"Name:\", student1.name)\n",
        "  print(\"Year of Graduation:\", student.calculate_year_of_graduation(current_year))\n",
        "  print(\"Can Graduate:\", student1.can_graduate())\n",
        "  print(\"Will Pass:\", student1.will_pass())\n",
        "    \n",
        "\n"
      ],
      "metadata": {
        "id": "y80TWCpvtKS3"
      }
    },
    {
      "cell_type": "markdown",
      "source": [],
      "metadata": {
        "id": "eN-DVfonuTZw"
      }
    }
  ]
}